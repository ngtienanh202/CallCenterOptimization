{
 "cells": [
  {
   "cell_type": "code",
   "execution_count": 2,
   "metadata": {},
   "outputs": [
    {
     "name": "stderr",
     "output_type": "stream",
     "text": [
      "100%|██████████| 1015852/1015852 [00:05<00:00, 200180.52it/s]\n",
      "100%|██████████| 1015852/1015852 [00:14<00:00, 70067.55it/s]\n",
      "100%|██████████| 1015852/1015852 [00:26<00:00, 38573.06it/s]\n",
      "100%|██████████| 1015852/1015852 [00:08<00:00, 118253.31it/s]\n",
      "100%|██████████| 1015852/1015852 [00:09<00:00, 112865.03it/s]\n",
      "100%|██████████| 1015852/1015852 [00:07<00:00, 133639.75it/s]\n",
      "100%|██████████| 1015852/1015852 [00:08<00:00, 117927.45it/s]\n",
      "100%|██████████| 1015852/1015852 [00:08<00:00, 117143.50it/s]\n",
      "100%|██████████| 1015852/1015852 [00:08<00:00, 114013.34it/s]\n"
     ]
    },
    {
     "data": {
      "text/plain": [
       "1015852"
      ]
     },
     "execution_count": 2,
     "metadata": {},
     "output_type": "execute_result"
    }
   ],
   "source": [
    "from xgboost import XGBClassifier\n",
    "from sklearn.model_selection import train_test_split\n",
    "import xgboost\n",
    "import pandas as pd\n",
    "from tqdm import tqdm\n",
    "from datetime import datetime as dpa\n",
    "import pickle\n",
    "from src.utils.QueryData import GetMinute\n",
    "from src.utils.convert_data_type import convertStrtoDate, convertToDayMonth, convertToMonthYear, convertToDayWeek, convertToHour\n",
    "from src.utils.encodeData import labelEncoder\n",
    "\n",
    "data = pd.read_csv('/home/ai_car/AthenaBow/data/TotalData.csv')\n",
    "data = data.drop(columns=['STT', 'CallID', 'Hotline', 'QC User Say', 'QC Intent', 'Đánh giá Intent', 'Tỷ lệ nhận diện STT', 'Đánh giá STT', 'Audio', 'Đơn giá', 'CUSTOMER'])\n",
    "data = data.drop(columns=['Intent', 'Độ tự tin (%)', 'Entities', 'Entity Value', 'QC Độ trễ', 'Số khách hàng', 'Mã kết thúc bot'])\n",
    "data = data.drop(columns=['Action', 'Bot Process (ms)', 'TTS Process (ms)', 'User Say', 'Time in call', 'ASR Process (ms)'])\n",
    "# data = data.drop(columns=['CURRES_PHONE'])\n",
    "data = data.drop(columns=['MOB', 'DPD', 'REMAINING_PEROID'])\n",
    "data = data.drop(columns=['TENURE', 'RELATIONSHIP_2', 'PHONE_REF3', 'NAME_3', 'RELATIONSHIP_3', 'PERMNENT_PROVINCE', 'RELATIONSHIP_1', 'PHONE_REF2', 'NAME_2'])\n",
    "data = data.drop(columns=['NAME_1', 'DISBURSALDATE', 'PHONE_REF1', 'MAX_DPD', 'DUEDAY', 'FIRST_PAID_DATE'])\n",
    "data = data.drop(columns=['Mã tổng đài', 'AMOUNT_FINANCE', 'GENDER', 'Thời lượng gọi'])\n",
    "data = data.drop(columns=['AGREEMENTID'])\n",
    "data = data.drop_duplicates(ignore_index= True)\n",
    "\n",
    "data = data.dropna()\n",
    "data = data.reset_index(drop=True)\n",
    "def convertPhone(data):\n",
    "    listPhone = []\n",
    "    for i in tqdm(range(len(data['CURRES_PHONE']))):\n",
    "        listPhone.append(int(data['CURRES_PHONE'][i]))\n",
    "    return listPhone\n",
    "data['CURRES_PHONE'] = convertPhone(data)\n",
    "\n",
    "data.rename(columns = {'Trạng thái':'Result'}, inplace = True)\n",
    "def encodeTimeCall(data):\n",
    "    listEncode = []\n",
    "    for i in tqdm(range(len(data['Thời điểm gọi']))):\n",
    "        a = dpa.strptime(data['Thời điểm gọi'][i], '%Y-%m-%d %H:%M:%S')\n",
    "        listEncode.append(a)\n",
    "    return listEncode\n",
    "data['Thời điểm gọi'] = encodeTimeCall(data)\n",
    "\n",
    "def convertDateYeartoDays(data):\n",
    "    DayofWeeks = []\n",
    "    for i in tqdm(range(len(data['Thời điểm gọi']))):\n",
    "        DayofWeeks.append(convertToDayWeek(data, i))\n",
    "    return DayofWeeks\n",
    "data['DayofWeek'] = convertDateYeartoDays(data)\n",
    "\n",
    "def convertToTime(data):\n",
    "    hourToCall = []\n",
    "    for i in tqdm(range(len(data['Thời điểm gọi']))):\n",
    "        hourToCall.append(convertToHour(data, i))\n",
    "    return hourToCall\n",
    "data['TimeCall'] = convertToTime(data)\n",
    "\n",
    "def labelEncoder(data):\n",
    "    encoderLabel = []\n",
    "    for i in tqdm(range(len(data['Result']))):\n",
    "        if data['Result'][i] == 'Không thành công' or data['Result'][i] == 'Lỗi':\n",
    "            encoderLabel.append(0)\n",
    "        elif data['Result'][i] == 'Nghe máy':\n",
    "            encoderLabel.append(1)\n",
    "    return encoderLabel\n",
    "\n",
    "data['Result'] = labelEncoder(data)\n",
    "\n",
    "def encodeProduct(data):\n",
    "    encoder = []\n",
    "    for i in tqdm(range(len(data['PRODUCT']))):\n",
    "        if data['PRODUCT'][i] == 'Cash Loan':\n",
    "            encoder.append(0)\n",
    "        elif data['PRODUCT'][i] == 'TOPUP - XSELL':\n",
    "            encoder.append(1)\n",
    "        elif data['PRODUCT'][i] == 'CONSUMER DURABLE LOAN':\n",
    "            encoder.append(2)\n",
    "        elif data['PRODUCT'][i] == 'TWO-WHEEL LOAN':\n",
    "            encoder.append(3)\n",
    "        elif data['PRODUCT'][i] == 'MA EMPLOYEE CASH LOAN':\n",
    "            encoder.append(4)\n",
    "        elif data['PRODUCT'][i] == 'SERVICE PACKAGE LOAN':\n",
    "            encoder.append(5)\n",
    "        elif data['PRODUCT'][i] == 'AUTO LOAN':\n",
    "            encoder.append(6)\n",
    "    return encoder\n",
    "data['PRODUCT'] = encodeProduct(data)\n",
    "\n",
    "def convertDayMonth(data):\n",
    "    DayToCall = []\n",
    "    for i in tqdm(range(len(data['Thời điểm gọi']))):\n",
    "        DayToCall.append(convertToDayMonth(data, i))\n",
    "    return DayToCall\n",
    "\n",
    "data['DateCall'] = convertDayMonth(data)\n",
    "\n",
    "def convertMonthMonthYear(data):\n",
    "    MonthToCall = []\n",
    "    for i in tqdm(range(len(data['Thời điểm gọi']))):\n",
    "        MonthToCall.append(convertToMonthYear(data, i))\n",
    "    return MonthToCall\n",
    "\n",
    "data['MonthCall'] = convertMonthMonthYear(data)\n",
    "listMinute = []\n",
    "for i in tqdm(range(len(data['Thời điểm gọi']))):\n",
    "    listMinute.append(int(GetMinute(data, i)))\n",
    "len(listMinute)"
   ]
  },
  {
   "cell_type": "code",
   "execution_count": 3,
   "metadata": {},
   "outputs": [
    {
     "name": "stdout",
     "output_type": "stream",
     "text": [
      "0, 0, 0\n",
      "1    548140\n",
      "0    467712\n",
      "Name: Result, dtype: int64\n"
     ]
    },
    {
     "data": {
      "text/html": [
       "<div>\n",
       "<style scoped>\n",
       "    .dataframe tbody tr th:only-of-type {\n",
       "        vertical-align: middle;\n",
       "    }\n",
       "\n",
       "    .dataframe tbody tr th {\n",
       "        vertical-align: top;\n",
       "    }\n",
       "\n",
       "    .dataframe thead th {\n",
       "        text-align: right;\n",
       "    }\n",
       "</style>\n",
       "<table border=\"1\" class=\"dataframe\">\n",
       "  <thead>\n",
       "    <tr style=\"text-align: right;\">\n",
       "      <th></th>\n",
       "      <th>Result</th>\n",
       "      <th>CURRES_PHONE</th>\n",
       "      <th>PRODUCT</th>\n",
       "      <th>NC</th>\n",
       "      <th>TimeCall</th>\n",
       "      <th>DateCall</th>\n",
       "      <th>MonthCall</th>\n",
       "    </tr>\n",
       "  </thead>\n",
       "  <tbody>\n",
       "    <tr>\n",
       "      <th>0</th>\n",
       "      <td>1</td>\n",
       "      <td>948906338</td>\n",
       "      <td>0</td>\n",
       "      <td>2022988.00</td>\n",
       "      <td>10</td>\n",
       "      <td>1</td>\n",
       "      <td>1</td>\n",
       "    </tr>\n",
       "    <tr>\n",
       "      <th>1</th>\n",
       "      <td>1</td>\n",
       "      <td>378688785</td>\n",
       "      <td>2</td>\n",
       "      <td>2401572.00</td>\n",
       "      <td>9</td>\n",
       "      <td>1</td>\n",
       "      <td>1</td>\n",
       "    </tr>\n",
       "    <tr>\n",
       "      <th>2</th>\n",
       "      <td>1</td>\n",
       "      <td>946951819</td>\n",
       "      <td>1</td>\n",
       "      <td>1214182.00</td>\n",
       "      <td>16</td>\n",
       "      <td>1</td>\n",
       "      <td>1</td>\n",
       "    </tr>\n",
       "    <tr>\n",
       "      <th>3</th>\n",
       "      <td>1</td>\n",
       "      <td>908699508</td>\n",
       "      <td>5</td>\n",
       "      <td>2500000.00</td>\n",
       "      <td>9</td>\n",
       "      <td>1</td>\n",
       "      <td>1</td>\n",
       "    </tr>\n",
       "    <tr>\n",
       "      <th>4</th>\n",
       "      <td>1</td>\n",
       "      <td>905276356</td>\n",
       "      <td>0</td>\n",
       "      <td>1045860.00</td>\n",
       "      <td>16</td>\n",
       "      <td>1</td>\n",
       "      <td>1</td>\n",
       "    </tr>\n",
       "    <tr>\n",
       "      <th>...</th>\n",
       "      <td>...</td>\n",
       "      <td>...</td>\n",
       "      <td>...</td>\n",
       "      <td>...</td>\n",
       "      <td>...</td>\n",
       "      <td>...</td>\n",
       "      <td>...</td>\n",
       "    </tr>\n",
       "    <tr>\n",
       "      <th>1015847</th>\n",
       "      <td>0</td>\n",
       "      <td>903957747</td>\n",
       "      <td>1</td>\n",
       "      <td>2227758.00</td>\n",
       "      <td>17</td>\n",
       "      <td>30</td>\n",
       "      <td>6</td>\n",
       "    </tr>\n",
       "    <tr>\n",
       "      <th>1015848</th>\n",
       "      <td>1</td>\n",
       "      <td>965254687</td>\n",
       "      <td>0</td>\n",
       "      <td>2040518.00</td>\n",
       "      <td>20</td>\n",
       "      <td>30</td>\n",
       "      <td>6</td>\n",
       "    </tr>\n",
       "    <tr>\n",
       "      <th>1015849</th>\n",
       "      <td>1</td>\n",
       "      <td>982453701</td>\n",
       "      <td>2</td>\n",
       "      <td>1765233.00</td>\n",
       "      <td>14</td>\n",
       "      <td>30</td>\n",
       "      <td>6</td>\n",
       "    </tr>\n",
       "    <tr>\n",
       "      <th>1015850</th>\n",
       "      <td>1</td>\n",
       "      <td>358065457</td>\n",
       "      <td>0</td>\n",
       "      <td>1872939.00</td>\n",
       "      <td>9</td>\n",
       "      <td>30</td>\n",
       "      <td>6</td>\n",
       "    </tr>\n",
       "    <tr>\n",
       "      <th>1015851</th>\n",
       "      <td>1</td>\n",
       "      <td>768424804</td>\n",
       "      <td>2</td>\n",
       "      <td>2366450.00</td>\n",
       "      <td>19</td>\n",
       "      <td>30</td>\n",
       "      <td>6</td>\n",
       "    </tr>\n",
       "  </tbody>\n",
       "</table>\n",
       "<p>1015852 rows × 7 columns</p>\n",
       "</div>"
      ],
      "text/plain": [
       "         Result  CURRES_PHONE  PRODUCT         NC  TimeCall  DateCall  \\\n",
       "0             1     948906338        0 2022988.00        10         1   \n",
       "1             1     378688785        2 2401572.00         9         1   \n",
       "2             1     946951819        1 1214182.00        16         1   \n",
       "3             1     908699508        5 2500000.00         9         1   \n",
       "4             1     905276356        0 1045860.00        16         1   \n",
       "...         ...           ...      ...        ...       ...       ...   \n",
       "1015847       0     903957747        1 2227758.00        17        30   \n",
       "1015848       1     965254687        0 2040518.00        20        30   \n",
       "1015849       1     982453701        2 1765233.00        14        30   \n",
       "1015850       1     358065457        0 1872939.00         9        30   \n",
       "1015851       1     768424804        2 2366450.00        19        30   \n",
       "\n",
       "         MonthCall  \n",
       "0                1  \n",
       "1                1  \n",
       "2                1  \n",
       "3                1  \n",
       "4                1  \n",
       "...            ...  \n",
       "1015847          6  \n",
       "1015848          6  \n",
       "1015849          6  \n",
       "1015850          6  \n",
       "1015851          6  \n",
       "\n",
       "[1015852 rows x 7 columns]"
      ]
     },
     "execution_count": 3,
     "metadata": {},
     "output_type": "execute_result"
    }
   ],
   "source": [
    "print(f\"{data.TimeCall.isna().sum()}, {data.PRODUCT.isna().sum()}, {data.NC.isna().sum()}\")\n",
    "print(data.Result.value_counts())\n",
    "data = data.drop(columns=['Thời điểm gọi', 'DayofWeek'])\n",
    "data"
   ]
  },
  {
   "cell_type": "code",
   "execution_count": 4,
   "metadata": {},
   "outputs": [
    {
     "name": "stderr",
     "output_type": "stream",
     "text": [
      "100%|██████████| 1015852/1015852 [00:05<00:00, 184188.86it/s]\n"
     ]
    },
    {
     "data": {
      "text/plain": [
       "(         CURRES_PHONE  PRODUCT         NC  TimeCall  DateCall  MonthCall\n",
       " 0           948906338        0 2022988.00       654         1          1\n",
       " 1           378688785        2 2401572.00       591         1          1\n",
       " 2           946951819        1 1214182.00       962         1          1\n",
       " 3           908699508        5 2500000.00       585         1          1\n",
       " 4           905276356        0 1045860.00      1012         1          1\n",
       " ...               ...      ...        ...       ...       ...        ...\n",
       " 1015847     903957747        1 2227758.00      1056        30          6\n",
       " 1015848     965254687        0 2040518.00      1217        30          6\n",
       " 1015849     982453701        2 1765233.00       891        30          6\n",
       " 1015850     358065457        0 1872939.00       596        30          6\n",
       " 1015851     768424804        2 2366450.00      1152        30          6\n",
       " \n",
       " [1015852 rows x 6 columns],\n",
       " 0          1\n",
       " 1          1\n",
       " 2          1\n",
       " 3          1\n",
       " 4          1\n",
       "           ..\n",
       " 1015847    0\n",
       " 1015848    1\n",
       " 1015849    1\n",
       " 1015850    1\n",
       " 1015851    1\n",
       " Name: Result, Length: 1015852, dtype: int64)"
      ]
     },
     "execution_count": 4,
     "metadata": {},
     "output_type": "execute_result"
    }
   ],
   "source": [
    "listTimeEncode = []\n",
    "for i in tqdm(range(len(data['TimeCall']))):\n",
    "    listTimeEncode.append(int(int(data['TimeCall'][i]) * 60) + int(listMinute[i]))\n",
    "len(listTimeEncode)\n",
    "data['TimeCall'] = listTimeEncode\n",
    "\n",
    "y = data.Result\n",
    "x = data.drop(columns=['Result'])\n",
    "x, y"
   ]
  },
  {
   "cell_type": "code",
   "execution_count": 8,
   "metadata": {},
   "outputs": [],
   "source": [
    "CallCenter = xgboost.DMatrix(data=x, label=y)"
   ]
  },
  {
   "cell_type": "code",
   "execution_count": 5,
   "metadata": {},
   "outputs": [],
   "source": [
    "from sklearn.model_selection import GridSearchCV\n",
    "import matplotlib.pyplot as plt\n",
    "from xgboost.sklearn import XGBClassifier\n",
    "import numpy as np\n",
    "import xgboost as xgb\n",
    "from matplotlib.pylab import rcParams\n",
    "from sklearn import metrics\n",
    "rcParams['figure.figsize'] = 12, 4"
   ]
  },
  {
   "cell_type": "code",
   "execution_count": 13,
   "metadata": {},
   "outputs": [
    {
     "data": {
      "text/plain": [
       "4    12207\n",
       "3    10858\n",
       "2     9651\n",
       "7     9446\n",
       "8     9332\n",
       "6      839\n",
       "5        3\n",
       "Name: DayofWeek, dtype: int64"
      ]
     },
     "execution_count": 13,
     "metadata": {},
     "output_type": "execute_result"
    }
   ],
   "source": [
    "# data['DayofWeek'].value_counts()"
   ]
  },
  {
   "cell_type": "code",
   "execution_count": 6,
   "metadata": {},
   "outputs": [],
   "source": [
    "target = 'Result'\n",
    "def modelfit(alg, dtrain, predictors,useTrainCV=True, cv_folds=5, early_stopping_rounds=50):\n",
    "    \n",
    "    if useTrainCV:\n",
    "        xgb_param = alg.get_xgb_params()\n",
    "        xgtrain = xgb.DMatrix(data= dtrain[predictors].values, label=dtrain[target].values)\n",
    "        cvresult = xgb.cv(xgb_param, xgtrain, num_boost_round=alg.get_params()['n_estimators'], nfold=cv_folds,\n",
    "            metrics='auc', early_stopping_rounds=early_stopping_rounds)\n",
    "        alg.set_params(n_estimators=cvresult.shape[0])\n",
    "    \n",
    "    #Fit the algorithm on the data\n",
    "    alg.fit(dtrain[predictors].values, dtrain['Result'].values,eval_metric='auc')\n",
    "        \n",
    "    #Predict training set:\n",
    "    dtrain_predictions = alg.predict(dtrain[predictors])\n",
    "    dtrain_predprob = alg.predict_proba(dtrain[predictors])[:,1]\n",
    "        \n",
    "    #Print model report:\n",
    "    print(\"\\nModel Report\")\n",
    "    print (\"Accuracy : %.4g\" % metrics.accuracy_score(dtrain['Result'].values, dtrain_predictions))\n",
    "    print (\"AUC Score (Train): %f\" % metrics.roc_auc_score(dtrain['Result'], dtrain_predprob))\n",
    "                    "
   ]
  },
  {
   "cell_type": "code",
   "execution_count": 7,
   "metadata": {},
   "outputs": [
    {
     "name": "stdout",
     "output_type": "stream",
     "text": [
      "\n",
      "Model Report\n",
      "Accuracy : 0.8833\n",
      "AUC Score (Train): 0.965014\n"
     ]
    }
   ],
   "source": [
    "predictors = [a for a in data.columns if a not in [target]]\n",
    "xgb1 = XGBClassifier(tree_method='gpu_hist', gpu_id=0,\n",
    " learning_rate =0.03,\n",
    " n_estimators=1000,\n",
    " max_depth=25,\n",
    " min_child_weight=1,\n",
    " gamma=0,\n",
    " subsample=0.8,\n",
    " colsample_bytree=0.8,\n",
    " objective= 'binary:logistic',\n",
    " nthread=4,\n",
    " scale_pos_weight=1,\n",
    " seed=27)\n",
    "modelfit(xgb1, data, predictors)"
   ]
  },
  {
   "cell_type": "code",
   "execution_count": null,
   "metadata": {},
   "outputs": [],
   "source": [
    "param_test1 = {\n",
    " 'max_depth':range(3,10,2),\n",
    " 'min_child_weight':range(1,6,2)\n",
    "}\n",
    "gsearch1 = GridSearchCV(estimator = XGBClassifier(tree_method='gpu_hist', gpu_id=0, learning_rate =0.1, n_estimators=140, max_depth=5,\n",
    " min_child_weight=1, gamma=0, subsample=0.8, colsample_bytree=0.8,\n",
    " objective= 'binary:logistic', nthread=4, scale_pos_weight=1, seed=27), \n",
    " param_grid = param_test1, scoring='roc_auc',n_jobs=4, cv=5)\n",
    "gsearch1.fit(data[predictors],data[target])\n",
    "gsearch1.cv_results_, gsearch1.best_params_, gsearch1.best_score_"
   ]
  },
  {
   "cell_type": "code",
   "execution_count": 9,
   "metadata": {},
   "outputs": [],
   "source": [
    "pickle.dump(xgb1, open(\"/home/ai_car/AthenaBow/model/24-12/xgb.sav\", \"wb\"))\n",
    "\n",
    "# xgb_reg = pickle.load(open(\"/home/ai_car/AthenaBow/model/xgb.sav\", \"rb\"))\n",
    "# preds = xgb_reg.predict([[3216308, 5, 5985334, 7, 8]])\n",
    "# preds"
   ]
  },
  {
   "cell_type": "code",
   "execution_count": 20,
   "metadata": {},
   "outputs": [
    {
     "data": {
      "text/plain": [
       "array([[0.44808543, 0.5519146 ]], dtype=float32)"
      ]
     },
     "execution_count": 20,
     "metadata": {},
     "output_type": "execute_result"
    }
   ],
   "source": [
    "preds = xgb1.predict_proba([[3216308, 5, 5985334, 7, 8]])\n",
    "preds"
   ]
  },
  {
   "cell_type": "code",
   "execution_count": 18,
   "metadata": {},
   "outputs": [
    {
     "data": {
      "text/plain": [
       "[[0.4480854272842407, 0.5519145727157593]]"
      ]
     },
     "execution_count": 18,
     "metadata": {},
     "output_type": "execute_result"
    }
   ],
   "source": [
    "preds = preds.tolist()\n",
    "preds"
   ]
  },
  {
   "cell_type": "code",
   "execution_count": 22,
   "metadata": {},
   "outputs": [
    {
     "data": {
      "text/plain": [
       "0.5519146"
      ]
     },
     "execution_count": 22,
     "metadata": {},
     "output_type": "execute_result"
    }
   ],
   "source": [
    "preds[0][1]"
   ]
  },
  {
   "cell_type": "code",
   "execution_count": 19,
   "metadata": {},
   "outputs": [
    {
     "data": {
      "text/plain": [
       "1"
      ]
     },
     "execution_count": 19,
     "metadata": {},
     "output_type": "execute_result"
    }
   ],
   "source": [
    "preds[0].inde,x(max(preds[0]))"
   ]
  },
  {
   "cell_type": "code",
   "execution_count": null,
   "metadata": {},
   "outputs": [],
   "source": [
    "param_test2 = {\n",
    " 'max_depth':[4,5,6],\n",
    " 'min_child_weight':[4,5,6]\n",
    "}\n",
    "gsearch2 = GridSearchCV(estimator = XGBClassifier( tree_method='gpu_hist', gpu_id=0,learning_rate=0.1, n_estimators=140, max_depth=5,\n",
    " min_child_weight=2, gamma=0, subsample=0.8, colsample_bytree=0.8,\n",
    " objective= 'binary:logistic', nthread=4, scale_pos_weight=1,seed=27), \n",
    " param_grid = param_test2, scoring='roc_auc',n_jobs=4, cv=5)\n",
    "gsearch2.fit(data[predictors],data[target])\n",
    "gsearch2.cv_results_, gsearch2.best_params_, gsearch2.best_score_"
   ]
  },
  {
   "cell_type": "code",
   "execution_count": null,
   "metadata": {},
   "outputs": [],
   "source": [
    "param_test3 = {\n",
    " 'gamma':[i/10.0 for i in range(0,5)]\n",
    "}\n",
    "gsearch3 = GridSearchCV(estimator = XGBClassifier( tree_method='gpu_hist', gpu_id=0,learning_rate =0.1, n_estimators=140, max_depth=4,\n",
    " min_child_weight=6, gamma=0, subsample=0.8, colsample_bytree=0.8,\n",
    " objective= 'binary:logistic', nthread=4, scale_pos_weight=1,seed=27), \n",
    " param_grid = param_test3, scoring='roc_auc',n_jobs=4, cv=5)\n",
    "gsearch3.fit(data[predictors],data[target])\n",
    "gsearch3.cv_results_, gsearch3.best_params_, gsearch3.best_score_"
   ]
  },
  {
   "cell_type": "code",
   "execution_count": 1,
   "metadata": {},
   "outputs": [
    {
     "ename": "NameError",
     "evalue": "name 'XGBClassifier' is not defined",
     "output_type": "error",
     "traceback": [
      "\u001b[0;31m---------------------------------------------------------------------------\u001b[0m",
      "\u001b[0;31mNameError\u001b[0m                                 Traceback (most recent call last)",
      "\u001b[0;32m/tmp/ipykernel_10337/2444211964.py\u001b[0m in \u001b[0;36m<module>\u001b[0;34m\u001b[0m\n\u001b[0;32m----> 1\u001b[0;31m xgb2 = XGBClassifier(\n\u001b[0m\u001b[1;32m      2\u001b[0m  \u001b[0mtree_method\u001b[0m\u001b[0;34m=\u001b[0m\u001b[0;34m'gpu_hist'\u001b[0m\u001b[0;34m,\u001b[0m \u001b[0mgpu_id\u001b[0m\u001b[0;34m=\u001b[0m\u001b[0;36m0\u001b[0m\u001b[0;34m,\u001b[0m\u001b[0;34m\u001b[0m\u001b[0;34m\u001b[0m\u001b[0m\n\u001b[1;32m      3\u001b[0m  \u001b[0mlearning_rate\u001b[0m \u001b[0;34m=\u001b[0m\u001b[0;36m0.01\u001b[0m\u001b[0;34m,\u001b[0m\u001b[0;34m\u001b[0m\u001b[0;34m\u001b[0m\u001b[0m\n\u001b[1;32m      4\u001b[0m  \u001b[0mn_estimators\u001b[0m\u001b[0;34m=\u001b[0m\u001b[0;36m1000\u001b[0m\u001b[0;34m,\u001b[0m\u001b[0;34m\u001b[0m\u001b[0;34m\u001b[0m\u001b[0m\n\u001b[1;32m      5\u001b[0m  \u001b[0mmax_depth\u001b[0m\u001b[0;34m=\u001b[0m\u001b[0;36m20\u001b[0m\u001b[0;34m,\u001b[0m\u001b[0;34m\u001b[0m\u001b[0;34m\u001b[0m\u001b[0m\n",
      "\u001b[0;31mNameError\u001b[0m: name 'XGBClassifier' is not defined"
     ]
    }
   ],
   "source": [
    "xgb2 = XGBClassifier(\n",
    " tree_method='gpu_hist', gpu_id=0,\n",
    " learning_rate =0.01,\n",
    " n_estimators=1000,\n",
    " max_depth=20,\n",
    " min_child_weight=6,\n",
    " gamma=0,\n",
    " subsample=0.8,\n",
    " colsample_bytree=0.8,\n",
    " objective= 'binary:logistic',\n",
    " nthread=4,\n",
    " scale_pos_weight=1,\n",
    " seed=27)\n",
    "modelfit(xgb2, data, predictors)"
   ]
  },
  {
   "cell_type": "code",
   "execution_count": 20,
   "metadata": {},
   "outputs": [],
   "source": [
    "pickle.dump(xgb2, open(\"/home/ai_car/AthenaBow/model/newest/xgb2Day.sav\", \"wb\"))\n",
    "# xgb_reg = pickle.load(open(\"/home/ai_car/AthenaBow/model/xgb_NODay.sav\", \"rb\"))\n",
    "# preds = xgb_reg.predict([[3216308, 5, 5985334, 480]])\n",
    "# preds"
   ]
  },
  {
   "cell_type": "code",
   "execution_count": 10,
   "metadata": {},
   "outputs": [
    {
     "name": "stderr",
     "output_type": "stream",
     "text": [
      "  3%|▎         | 1/29 [00:26<12:24, 26.58s/it]"
     ]
    },
    {
     "name": "stdout",
     "output_type": "stream",
     "text": [
      "{'Model': 'AdaBoostClassifier', 'Accuracy': 0.7160876241977189, 'Balanced Accuracy': 0.7139686409493207, 'ROC AUC': 0.7139686409493207, 'F1 Score': 0.7159881238581517, 'Time taken': 26.579824686050415}\n"
     ]
    },
    {
     "name": "stderr",
     "output_type": "stream",
     "text": [
      "  7%|▋         | 2/29 [00:59<13:44, 30.52s/it]"
     ]
    },
    {
     "name": "stdout",
     "output_type": "stream",
     "text": [
      "{'Model': 'BaggingClassifier', 'Accuracy': 0.766905327540721, 'Balanced Accuracy': 0.7673449832993977, 'ROC AUC': 0.7673449832993977, 'F1 Score': 0.7672140464247722, 'Time taken': 33.2840735912323}\n"
     ]
    },
    {
     "name": "stderr",
     "output_type": "stream",
     "text": [
      " 10%|█         | 3/29 [01:00<07:21, 16.96s/it]"
     ]
    },
    {
     "name": "stdout",
     "output_type": "stream",
     "text": [
      "{'Model': 'BernoulliNB', 'Accuracy': 0.6522759190959325, 'Balanced Accuracy': 0.6449342991613864, 'ROC AUC': 0.6449342991613864, 'F1 Score': 0.6489678362821916, 'Time taken': 0.8270270824432373}\n"
     ]
    },
    {
     "name": "stderr",
     "output_type": "stream",
     "text": [
      " 14%|█▍        | 4/29 [11:22<1:46:32, 255.68s/it]"
     ]
    },
    {
     "name": "stdout",
     "output_type": "stream",
     "text": [
      "{'Model': 'CalibratedClassifierCV', 'Accuracy': 0.6761671632387878, 'Balanced Accuracy': 0.6738591455343711, 'ROC AUC': 0.6738591455343711, 'F1 Score': 0.6760757515438094, 'Time taken': 621.6351861953735}\n"
     ]
    },
    {
     "name": "stderr",
     "output_type": "stream",
     "text": [
      " 17%|█▋        | 5/29 [11:22<1:05:25, 163.56s/it]"
     ]
    },
    {
     "name": "stdout",
     "output_type": "stream",
     "text": [
      "CategoricalNB model failed to execute\n",
      "Negative values in data passed to CategoricalNB (input X)\n"
     ]
    },
    {
     "name": "stderr",
     "output_type": "stream",
     "text": [
      " 21%|██        | 6/29 [11:27<42:05, 109.80s/it]  "
     ]
    },
    {
     "name": "stdout",
     "output_type": "stream",
     "text": [
      "{'Model': 'DecisionTreeClassifier', 'Accuracy': 0.7296755437136595, 'Balanced Accuracy': 0.7282130714741245, 'ROC AUC': 0.7282130714741245, 'F1 Score': 0.7297375134396771, 'Time taken': 5.442734003067017}\n"
     ]
    },
    {
     "name": "stderr",
     "output_type": "stream",
     "text": [
      " 24%|██▍       | 7/29 [11:28<27:09, 74.07s/it] "
     ]
    },
    {
     "name": "stdout",
     "output_type": "stream",
     "text": [
      "{'Model': 'DummyClassifier', 'Accuracy': 0.5395365472706034, 'Balanced Accuracy': 0.5, 'ROC AUC': 0.5, 'F1 Score': 0.37816534639176397, 'Time taken': 0.5064091682434082}\n"
     ]
    },
    {
     "name": "stderr",
     "output_type": "stream",
     "text": [
      " 28%|██▊       | 8/29 [11:29<17:48, 50.87s/it]"
     ]
    },
    {
     "name": "stdout",
     "output_type": "stream",
     "text": [
      "{'Model': 'ExtraTreeClassifier', 'Accuracy': 0.7159169958917954, 'Balanced Accuracy': 0.7144193922570892, 'ROC AUC': 0.714419392257089, 'F1 Score': 0.7159954910736498, 'Time taken': 1.1977484226226807}\n"
     ]
    },
    {
     "name": "stderr",
     "output_type": "stream",
     "text": [
      " 31%|███       | 9/29 [12:44<19:24, 58.21s/it]"
     ]
    },
    {
     "name": "stdout",
     "output_type": "stream",
     "text": [
      "{'Model': 'ExtraTreesClassifier', 'Accuracy': 0.764296683248238, 'Balanced Accuracy': 0.7623092250649455, 'ROC AUC': 0.7623092250649455, 'F1 Score': 0.7641681183586108, 'Time taken': 74.33548021316528}\n"
     ]
    },
    {
     "name": "stderr",
     "output_type": "stream",
     "text": [
      " 34%|███▍      | 10/29 [12:44<12:48, 40.47s/it]"
     ]
    },
    {
     "name": "stdout",
     "output_type": "stream",
     "text": [
      "{'Model': 'GaussianNB', 'Accuracy': 0.6641477116119124, 'Balanced Accuracy': 0.665345002293432, 'ROC AUC': 0.665345002293432, 'F1 Score': 0.664671996105753, 'Time taken': 0.7644054889678955}\n"
     ]
    },
    {
     "name": "stderr",
     "output_type": "stream",
     "text": [
      " 38%|███▊      | 11/29 [13:03<10:10, 33.92s/it]"
     ]
    },
    {
     "name": "stdout",
     "output_type": "stream",
     "text": [
      "{'Model': 'KNeighborsClassifier', 'Accuracy': 0.7630530654031422, 'Balanced Accuracy': 0.7613139178170749, 'ROC AUC': 0.7613139178170749, 'F1 Score': 0.7629918780828608, 'Time taken': 19.063607454299927}\n"
     ]
    },
    {
     "name": "stderr",
     "output_type": "stream",
     "text": [
      " 41%|████▏     | 12/29 [13:04<06:43, 23.71s/it]"
     ]
    },
    {
     "name": "stdout",
     "output_type": "stream",
     "text": [
      "LabelPropagation model failed to execute\n",
      "Unable to allocate 3.68 TiB for an array with shape (711096, 711096) and data type float64\n"
     ]
    },
    {
     "name": "stderr",
     "output_type": "stream",
     "text": [
      " 45%|████▍     | 13/29 [13:04<04:26, 16.63s/it]"
     ]
    },
    {
     "name": "stdout",
     "output_type": "stream",
     "text": [
      "LabelSpreading model failed to execute\n",
      "Unable to allocate 3.68 TiB for an array with shape (711096, 711096) and data type float64\n"
     ]
    },
    {
     "name": "stderr",
     "output_type": "stream",
     "text": [
      " 48%|████▊     | 14/29 [13:06<03:01, 12.09s/it]"
     ]
    },
    {
     "name": "stdout",
     "output_type": "stream",
     "text": [
      "{'Model': 'LinearDiscriminantAnalysis', 'Accuracy': 0.6758751263305727, 'Balanced Accuracy': 0.6742422934422015, 'ROC AUC': 0.6742422934422015, 'F1 Score': 0.6759982813265254, 'Time taken': 1.5858194828033447}\n"
     ]
    },
    {
     "name": "stderr",
     "output_type": "stream",
     "text": [
      " 52%|█████▏    | 15/29 [15:43<13:00, 55.77s/it]"
     ]
    },
    {
     "name": "stdout",
     "output_type": "stream",
     "text": [
      "{'Model': 'LinearSVC', 'Accuracy': 0.675950596542808, 'Balanced Accuracy': 0.6742746354502966, 'ROC AUC': 0.6742746354502968, 'F1 Score': 0.6760613400632247, 'Time taken': 157.01175117492676}\n"
     ]
    },
    {
     "name": "stderr",
     "output_type": "stream",
     "text": [
      " 55%|█████▌    | 16/29 [15:44<08:32, 39.45s/it]"
     ]
    },
    {
     "name": "stdout",
     "output_type": "stream",
     "text": [
      "{'Model': 'LogisticRegression', 'Accuracy': 0.676249196078174, 'Balanced Accuracy': 0.6739597101491513, 'ROC AUC': 0.6739597101491513, 'F1 Score': 0.6761641315998939, 'Time taken': 1.5534718036651611}\n"
     ]
    },
    {
     "name": "stderr",
     "output_type": "stream",
     "text": [
      " 59%|█████▊    | 17/29 [15:45<05:33, 27.81s/it]"
     ]
    },
    {
     "name": "stdout",
     "output_type": "stream",
     "text": [
      "{'Model': 'NearestCentroid', 'Accuracy': 0.6635341059733032, 'Balanced Accuracy': 0.6667121276450494, 'ROC AUC': 0.6667121276450495, 'F1 Score': 0.6638146548683103, 'Time taken': 0.7299792766571045}\n"
     ]
    }
   ],
   "source": [
    "from sklearn.impute import SimpleImputer\n",
    "import numpy as np # linear algebra\n",
    "import pandas as pd # data processing, CSV file I/O (e.g. pd.read_csv)\n",
    "from sklearn.metrics import accuracy_score\n",
    "from sklearn.metrics import plot_confusion_matrix\n",
    "import time\n",
    "from sklearn.model_selection import train_test_split\n",
    "from lazypredict.Supervised import LazyClassifier\n",
    "\n",
    "train_X, test_X, train_y, test_y = train_test_split(x.values, y.values, test_size=0.3, random_state= 123) # By default shuffle is true\n",
    "\n",
    "my_imputer = SimpleImputer()\n",
    "train_X = my_imputer.fit_transform(train_X)\n",
    "test_X = my_imputer.transform(test_X)\n",
    "# start_time = time.time()\n",
    "\n",
    "# initial_model = xgb.XGBClassifier(n_estimators=1000, \n",
    "#                         max_depth=10, \n",
    "#                         learning_rate=0.01, \n",
    "#                         subsample=0.7,\n",
    "#                         colsample_bytree=0.8, \n",
    "#                         colsample_bylevel=0.8, \n",
    "#                         base_score=train_y.mean(),\n",
    "#                         tree_method= 'gpu_hist',\n",
    "#                         gpu_id = 0,\n",
    "#                         random_state=42, seed=42)\n",
    "\n",
    "# init_mod = initial_model.fit(train_X, train_y, \n",
    "#                     early_stopping_rounds=10, \n",
    "#                     eval_set=[(test_X, test_y)], eval_metric='error', \n",
    "#                     verbose=100)\n",
    "\n",
    "# print(\"--- %s seconds ---\" % (time.time() - start_time))\n",
    "\n",
    "clf = LazyClassifier(verbose= 1 , ignore_warnings= False, custom_metric= None)\n",
    "model, prediction = clf.fit(train_X,test_X,train_y,test_y)\n",
    "print(model)"
   ]
  },
  {
   "cell_type": "code",
   "execution_count": 20,
   "metadata": {},
   "outputs": [
    {
     "name": "stderr",
     "output_type": "stream",
     "text": [
      "/home/ai_car/anaconda3/envs/Python3.7/lib/python3.7/site-packages/sklearn/utils/deprecation.py:87: FutureWarning: Function plot_confusion_matrix is deprecated; Function `plot_confusion_matrix` is deprecated in 1.0 and will be removed in 1.2. Use one of the class methods: ConfusionMatrixDisplay.from_predictions or ConfusionMatrixDisplay.from_estimator.\n",
      "  warnings.warn(msg, category=FutureWarning)\n"
     ]
    },
    {
     "data": {
      "text/plain": [
       "Text(0.5, 1.0, 'Initial Model without tuning using Xgboost')"
      ]
     },
     "execution_count": 20,
     "metadata": {},
     "output_type": "execute_result"
    },
    {
     "data": {
      "image/png": "[encoded data removed]",
      "text/plain": [
       "<Figure size 1200x400 with 2 Axes>"
      ]
     },
     "metadata": {},
     "output_type": "display_data"
    }
   ],
   "source": [
    "class_names = [1,0]\n",
    "\n",
    "disp = plot_confusion_matrix(init_mod, test_X, test_y,\n",
    "                             display_labels=class_names,\n",
    "                             cmap=plt.cm.Blues)\n",
    "plt.title('Initial Model without tuning using Xgboost')"
   ]
  },
  {
   "cell_type": "code",
   "execution_count": 21,
   "metadata": {},
   "outputs": [],
   "source": [
    "from sklearn.model_selection import RandomizedSearchCV\n",
    "params = {\n",
    "        'learning_rate': [0.03, 0.01, 0.003, 0.001],\n",
    "        'min_child_weight': [1,3, 5,7, 10],\n",
    "        'gamma': [0, 0.5, 1, 1.5, 2, 2.5, 5],\n",
    "        'subsample': [0.6, 0.8, 1.0, 1.2, 1.4],\n",
    "        'colsample_bytree': [0.6, 0.8, 1.0, 1.2, 1.4],\n",
    "        'max_depth': [3, 4, 5, 6, 7, 8, 9 ,10, 12],\n",
    "        'reg_lambda':np.array([0.4, 0.6, 0.8, 1, 1.2, 1.4])}\n",
    "\n",
    "# specific parameters. I set early stopping to avoid overfitting and specify the validation dataset \n",
    "fit_params = { \n",
    "        'early_stopping_rounds':10,\n",
    "        'eval_set':[(test_X, test_y)]}\n",
    "\n",
    "# let's run the optimization\n",
    "random_search = RandomizedSearchCV(init_mod, param_distributions=params, n_iter=500,\n",
    "                                   scoring=\"precision\", n_jobs=-1,  verbose=3, random_state=42, cv=3 )"
   ]
  },
  {
   "cell_type": "code",
   "execution_count": null,
   "metadata": {},
   "outputs": [],
   "source": [
    "import warnings\n",
    "import shutup\n",
    "shutup.please()\n",
    "random_search.fit(train_X,train_y, **fit_params)\n",
    "print(\" Results from Random Search \" )\n",
    "print(\"\\n The best estimator across ALL searched params:\\n\", random_search.best_estimator_)\n",
    "print(\"\\n The best score across ALL searched params:\\n\", random_search.best_score_)\n",
    "print(\"\\n The best parameters across ALL searched params:\\n\", random_search.best_params_)"
   ]
  },
  {
   "cell_type": "code",
   "execution_count": null,
   "metadata": {},
   "outputs": [
    {
     "name": "stdout",
     "output_type": "stream",
     "text": [
      "[0]\tvalidation_0-error:0.46115\n",
      "[100]\tvalidation_0-error:0.22490\n",
      "[200]\tvalidation_0-error:0.21789\n",
      "[300]\tvalidation_0-error:0.21183\n",
      "[385]\tvalidation_0-error:0.21012\n",
      "--- 43.326703786849976 seconds ---\n"
     ]
    }
   ],
   "source": [
    "import xgboost as xgb\n",
    "import time\n",
    "\n",
    "\n",
    "\n",
    "train_X, test_X, train_y, test_y = train_test_split(x.values, y.values, test_size=0.25) # By default shuffle is true\n",
    "\n",
    "# my_imputer = SimpleImputer()\n",
    "# train_X = my_imputer.fit_transform(train_X)\n",
    "# test_X = my_imputer.transform(test_X)\n",
    "start_time = time.time()\n",
    "\n",
    "tuned_model = xgb.XGBClassifier(n_estimators=1000, \n",
    "                        max_depth=16, \n",
    "                        learning_rate=0.03, \n",
    "                        subsample=0.6,\n",
    "                        colsample_bytree=0.6, \n",
    "                        colsample_bylevel=0.8, \n",
    "                        gamma=0.5,reg_lambda = 1.4,\n",
    "#                         objective = 'binary:logistic',\n",
    "                        base_score=train_y.mean(),\n",
    "                        tree_method= 'gpu_hist',\n",
    "                        random_state=42, seed=42)\n",
    "# 'subsample': 0.6, 'reg_lambda': 1.4, 'min_child_weight': 3, 'max_depth': 16, 'learning_rate': 0.03, 'gamma': 0.5, 'colsample_bytree': 0.6\n",
    "\n",
    "\n",
    "tuned_mod = tuned_model.fit(train_X, train_y, \n",
    "                    early_stopping_rounds=20, \n",
    "                    eval_set=[(test_X, test_y)], eval_metric='error', \n",
    "                    verbose=100)\n",
    "\n",
    "print(\"--- %s seconds ---\" % (time.time() - start_time))"
   ]
  },
  {
   "cell_type": "code",
   "execution_count": null,
   "metadata": {},
   "outputs": [
    {
     "data": {
      "text/plain": [
       "Text(0.5, 1.0, 'Tuned Model')"
      ]
     },
     "execution_count": 29,
     "metadata": {},
     "output_type": "execute_result"
    },
    {
     "data": {
      "image/png": "[encoded data removed]",
      "text/plain": [
       "<Figure size 1200x400 with 2 Axes>"
      ]
     },
     "metadata": {},
     "output_type": "display_data"
    }
   ],
   "source": [
    "class_names = ['1','0']\n",
    "\n",
    "disp = plot_confusion_matrix(tuned_mod, test_X, test_y,\n",
    "                             display_labels=class_names,\n",
    "                             cmap=plt.cm.Blues)\n",
    "plt.title('Tuned Model')"
   ]
  },
  {
   "cell_type": "code",
   "execution_count": null,
   "metadata": {},
   "outputs": [
    {
     "data": {
      "image/png": "[encoded data removed]",
      "text/plain": [
       "<Figure size 1200x400 with 1 Axes>"
      ]
     },
     "metadata": {},
     "output_type": "display_data"
    }
   ],
   "source": [
    "init_model_res = init_mod.evals_result()\n",
    "tuned_model_res = tuned_mod.evals_result()\n",
    "epochs_init = len(init_model_res['validation_0']['error'])\n",
    "epochs_tuned = len(tuned_model_res['validation_0']['error'])\n",
    "x_axis_init = range(0, epochs_init)\n",
    "x_axis_tuned = range(0,epochs_tuned)\n",
    "# plot classification error\n",
    "fig, ax = plt.subplots()\n",
    "ax.plot(x_axis_init, init_model_res['validation_0']['error'], label='Initial classification error')\n",
    "ax.plot(x_axis_tuned, tuned_model_res['validation_0']['error'], label='Tuned classification error')\n",
    "\n",
    "ax.legend()\n",
    "plt.ylabel('Classification Error')\n",
    "plt.title('XGBoost Classification error on test data')\n",
    "plt.show()"
   ]
  },
  {
   "cell_type": "code",
   "execution_count": null,
   "metadata": {},
   "outputs": [
    {
     "name": "stdout",
     "output_type": "stream",
     "text": [
      "{'f0': 228543.0, 'f1': 21996.0, 'f2': 244675.0, 'f3': 43275.0, 'f4': 88688.0, 'f5': 42481.0}\n"
     ]
    },
    {
     "data": {
      "image/png": "[encoded data removed]",
      "text/plain": [
       "<Figure size 1500x1500 with 1 Axes>"
      ]
     },
     "metadata": {},
     "output_type": "display_data"
    }
   ],
   "source": [
    "import matplotlib.pyplot as plt\n",
    "from xgboost import plot_importance\n",
    "print(tuned_mod.get_booster().get_score(importance_type='weight'))\n",
    "\n",
    "fig,ax = plt.subplots(figsize=(15,15))\n",
    "plot_importance(tuned_mod,ax=ax,max_num_features=10)\n",
    "plt.show()"
   ]
  },
  {
   "cell_type": "code",
   "execution_count": null,
   "metadata": {},
   "outputs": [],
   "source": [
    "pickle.dump(tuned_mod, open(\"/home/ai_car/AthenaBow/model/24-12/tuned_mod.sav\", \"wb\"))"
   ]
  },
  {
   "cell_type": "code",
   "execution_count": null,
   "metadata": {},
   "outputs": [],
   "source": [
    "param_test4 = {\n",
    " 'subsample':[i/10.0 for i in range(6,10)],\n",
    " 'colsample_bytree':[i/10.0 for i in range(6,10)]\n",
    "}\n",
    "gsearch4 = GridSearchCV(estimator = XGBClassifier(tree_method='gpu_hist', gpu_id=0, learning_rate =0.1, n_estimators=177, max_depth=4,\n",
    " min_child_weight=6, gamma=0, subsample=0.8, colsample_bytree=0.8,\n",
    " objective= 'binary:logistic', nthread=4, scale_pos_weight=1,seed=27), \n",
    " param_grid = param_test4, scoring='roc_auc',n_jobs=4, cv=5)\n",
    "gsearch4.fit(data[predictors],data[target])\n",
    "gsearch4.cv_results_, gsearch4.best_params_, gsearch4.best_score_"
   ]
  },
  {
   "cell_type": "code",
   "execution_count": 36,
   "metadata": {},
   "outputs": [
    {
     "data": {
      "text/plain": [
       "array([1])"
      ]
     },
     "execution_count": 36,
     "metadata": {},
     "output_type": "execute_result"
    }
   ],
   "source": [
    "pickle.dump(xgb2, open(\"/home/ai_car/AthenaBow/model/xgb.sav\", \"wb\"))\n",
    "xgb_reg = pickle.load(open(\"/home/ai_car/AthenaBow/model/xgb.sav\", \"rb\"))\n",
    "preds = xgb_reg.predict([[3216308, 5, 5985334, 7, 8]])\n",
    "preds"
   ]
  },
  {
   "cell_type": "code",
   "execution_count": 95,
   "metadata": {},
   "outputs": [
    {
     "name": "stderr",
     "output_type": "stream",
     "text": [
      "/home/ai_car/anaconda3/envs/Python3.7/lib/python3.7/site-packages/xgboost/sklearn.py:1224: UserWarning: The use of label encoder in XGBClassifier is deprecated and will be removed in a future release. To remove this warning, do the following: 1) Pass option use_label_encoder=False when constructing XGBClassifier object; and 2) Encode your labels (y) as integers starting with 0, i.e. 0, 1, 2, ..., [num_class - 1].\n",
      "  warnings.warn(label_encoder_deprecation_msg, UserWarning)\n"
     ]
    },
    {
     "name": "stdout",
     "output_type": "stream",
     "text": [
      "\n",
      "Model Report\n",
      "Accuracy : 0.6918\n",
      "AUC Score (Train): 0.771293\n"
     ]
    }
   ],
   "source": [
    "xgb4 = XGBClassifier(\n",
    "    tree_method='gpu_hist', gpu_id=0,\n",
    " learning_rate =0.01,\n",
    " n_estimators=5000,\n",
    " max_depth=4,\n",
    " min_child_weight=6,\n",
    " gamma=0,\n",
    " subsample=0.8,\n",
    " colsample_bytree=0.8,\n",
    " reg_alpha=0.005,\n",
    " objective= 'binary:logistic',\n",
    " nthread=4,\n",
    " scale_pos_weight=1,\n",
    " seed=27)\n",
    "modelfit(xgb4, data, predictors)"
   ]
  },
  {
   "cell_type": "code",
   "execution_count": 96,
   "metadata": {},
   "outputs": [],
   "source": [
    "xgb4.save_model('/home/ai_car/AthenaBow/model/4/model.json')\n",
    "xgb4.save_model('/home/ai_car/AthenaBow/model/4/model.txt')\n",
    "xgb2.save_model('/home/ai_car/AthenaBow/model/2/model.json')\n",
    "xgb2.save_model('/home/ai_car/AthenaBow/model/2/model.txt')\n",
    "xgb1.save_model('/home/ai_car/AthenaBow/model/1/model.json')\n",
    "xgb1.save_model('/home/ai_car/AthenaBow/model/1/model.txt')"
   ]
  },
  {
   "cell_type": "code",
   "execution_count": 97,
   "metadata": {},
   "outputs": [],
   "source": [
    "model_xgb_predict = xgb.Booster()\n",
    "model_xgb_predict.load_model('/home/ai_car/AthenaBow/model/1/model.json')"
   ]
  },
  {
   "cell_type": "code",
   "execution_count": 15,
   "metadata": {},
   "outputs": [],
   "source": [
    "from sklearn.metrics import accuracy_score\n",
    "import xgboost as xgb\n",
    "# split data into train and test sets\n",
    "seed = 7\n",
    "test_size = 0.2\n",
    "X_train, X_test, y_train, y_test = train_test_split(x, y, test_size=test_size, random_state=seed)\n",
    "train = xgb.DMatrix(X_train, y_train)\n",
    "test = xgb.DMatrix(X_test, y_test)\n",
    "# fit model no training data\n"
   ]
  },
  {
   "cell_type": "code",
   "execution_count": null,
   "metadata": {},
   "outputs": [],
   "source": [
    "params = {\n",
    "    \"learning_rate\": 0.01,\n",
    "    \"max_depth\": 100,\n",
    "    \"tree_method\": 'gpu_hist', \n",
    "    \"gpu_id\": 0,\n",
    "}\n",
    "# training, we set the early stopping rounds parameter\n",
    "model_xgb = xgb.train(params, \n",
    "          train, evals=[(train, \"train\"), (test, \"validation\")], \n",
    "          num_boost_round=1000, early_stopping_rounds=20)"
   ]
  },
  {
   "cell_type": "code",
   "execution_count": null,
   "metadata": {},
   "outputs": [],
   "source": [
    "model = XGBClassifier()\n",
    "model.fit(X_train, y_train)"
   ]
  },
  {
   "cell_type": "code",
   "execution_count": 54,
   "metadata": {},
   "outputs": [
    {
     "name": "stdout",
     "output_type": "stream",
     "text": [
      "XGBClassifier(base_score=0.5, booster='gbtree', colsample_bylevel=1,\n",
      "              colsample_bynode=1, colsample_bytree=1, enable_categorical=False,\n",
      "              gamma=0, gpu_id=-1, importance_type=None,\n",
      "              interaction_constraints='', learning_rate=0.300000012,\n",
      "              max_delta_step=0, max_depth=6, min_child_weight=1, missing=nan,\n",
      "              monotone_constraints='()', n_estimators=100, n_jobs=4,\n",
      "              num_parallel_tree=1, predictor='auto', random_state=0,\n",
      "              reg_alpha=0, reg_lambda=1, scale_pos_weight=1, subsample=1,\n",
      "              tree_method='exact', validate_parameters=1, verbosity=None)\n"
     ]
    }
   ],
   "source": [
    "print(model)"
   ]
  },
  {
   "cell_type": "code",
   "execution_count": 55,
   "metadata": {},
   "outputs": [
    {
     "name": "stdout",
     "output_type": "stream",
     "text": [
      "Accuracy: 66.24%\n"
     ]
    }
   ],
   "source": [
    "# make predictions for test data\n",
    "y_pred = model.predict(X_test)\n",
    "predictions = [round(value) for value in y_pred]\n",
    "# evaluate predictions\n",
    "accuracy = accuracy_score(y_test, predictions)\n",
    "print(\"Accuracy: %.2f%%\" % (accuracy * 100.0))"
   ]
  },
  {
   "cell_type": "code",
   "execution_count": 104,
   "metadata": {},
   "outputs": [
    {
     "data": {
      "text/plain": [
       "[6, 7, 8, 9, 10, 11, 12, 13, 14, 15, 16, 17, 18, 19, 20, 21, 22]"
      ]
     },
     "execution_count": 104,
     "metadata": {},
     "output_type": "execute_result"
    }
   ],
   "source": [
    "listTimeWork = [6,7,8,9,10,11,12,13,14,15,16,17,18,19,20,21,22]\n",
    "dataReal = pd.read_excel()\n",
    "# Dữ liệu đầu vào là profile customer\n",
    "def process():\n",
    "    for i in tqdm(range(len(dataReal))):\n",
    "        for j in range(len(listTimeWork)):\n",
    "            model.predict([dataReal[''], dataReal[''], data])\n"
   ]
  }
 ],
 "metadata": {
  "interpreter": {
   "hash": "e502d9d223253ef44fbaadbedf830e9884f96922c6e3ed182190d5999b213ab9"
  },
  "kernelspec": {
   "display_name": "Python 3.7.13 ('Python3.7')",
   "language": "python",
   "name": "python3"
  },
  "language_info": {
   "codemirror_mode": {
    "name": "ipython",
    "version": 3
   },
   "file_extension": ".py",
   "mimetype": "text/x-python",
   "name": "python",
   "nbconvert_exporter": "python",
   "pygments_lexer": "ipython3",
   "version": "3.7.13 (default, Oct 18 2022, 18:57:03) \n[GCC 11.2.0]"
  },
  "orig_nbformat": 4,
  "vscode": {
   "interpreter": {
    "hash": "e502d9d223253ef44fbaadbedf830e9884f96922c6e3ed182190d5999b213ab9"
   }
  }
 },
 "nbformat": 4,
 "nbformat_minor": 2
}
