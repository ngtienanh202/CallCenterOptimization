{
 "cells": [
  {
   "cell_type": "code",
   "execution_count": 7,
   "metadata": {},
   "outputs": [
    {
     "ename": "ValueError",
     "evalue": "training data did not have the following fields: AGREEMENTID, PRODUCT, NC, DayofWeek, TimeCall",
     "output_type": "error",
     "traceback": [
      "\u001b[0;31m---------------------------------------------------------------------------\u001b[0m",
      "\u001b[0;31mValueError\u001b[0m                                Traceback (most recent call last)",
      "\u001b[0;32m/tmp/ipykernel_3745/221454198.py\u001b[0m in \u001b[0;36m<module>\u001b[0;34m\u001b[0m\n\u001b[1;32m      4\u001b[0m \u001b[0mmodel\u001b[0m \u001b[0;34m=\u001b[0m \u001b[0mxgb\u001b[0m\u001b[0;34m.\u001b[0m\u001b[0mBooster\u001b[0m\u001b[0;34m(\u001b[0m\u001b[0;34m)\u001b[0m\u001b[0;34m\u001b[0m\u001b[0;34m\u001b[0m\u001b[0m\n\u001b[1;32m      5\u001b[0m \u001b[0mmodel\u001b[0m\u001b[0;34m.\u001b[0m\u001b[0mload_model\u001b[0m\u001b[0;34m(\u001b[0m\u001b[0;34m'/home/ai_car/AthenaBow/model/1/model.json'\u001b[0m\u001b[0;34m)\u001b[0m\u001b[0;34m\u001b[0m\u001b[0;34m\u001b[0m\u001b[0m\n\u001b[0;32m----> 6\u001b[0;31m \u001b[0mmodel\u001b[0m\u001b[0;34m.\u001b[0m\u001b[0mpredict\u001b[0m\u001b[0;34m(\u001b[0m\u001b[0mxgb\u001b[0m\u001b[0;34m.\u001b[0m\u001b[0mDMatrix\u001b[0m\u001b[0;34m(\u001b[0m\u001b[0;34m[\u001b[0m\u001b[0;34m[\u001b[0m\u001b[0;36m3216308\u001b[0m\u001b[0;34m,\u001b[0m \u001b[0;36m5\u001b[0m\u001b[0;34m,\u001b[0m \u001b[0;36m5985334\u001b[0m\u001b[0;34m,\u001b[0m \u001b[0;36m7\u001b[0m\u001b[0;34m,\u001b[0m \u001b[0;36m8\u001b[0m\u001b[0;34m]\u001b[0m\u001b[0;34m]\u001b[0m\u001b[0;34m)\u001b[0m\u001b[0;34m)\u001b[0m\u001b[0;34m\u001b[0m\u001b[0;34m\u001b[0m\u001b[0m\n\u001b[0m",
      "\u001b[0;32m~/anaconda3/envs/Python3.7/lib/python3.7/site-packages/xgboost/core.py\u001b[0m in \u001b[0;36mpredict\u001b[0;34m(self, data, output_margin, ntree_limit, pred_leaf, pred_contribs, approx_contribs, pred_interactions, validate_features, training, iteration_range, strict_shape)\u001b[0m\n\u001b[1;32m   1885\u001b[0m             \u001b[0;32mraise\u001b[0m \u001b[0mTypeError\u001b[0m\u001b[0;34m(\u001b[0m\u001b[0;34m'Expecting data to be a DMatrix object, got: '\u001b[0m\u001b[0;34m,\u001b[0m \u001b[0mtype\u001b[0m\u001b[0;34m(\u001b[0m\u001b[0mdata\u001b[0m\u001b[0;34m)\u001b[0m\u001b[0;34m)\u001b[0m\u001b[0;34m\u001b[0m\u001b[0;34m\u001b[0m\u001b[0m\n\u001b[1;32m   1886\u001b[0m         \u001b[0;32mif\u001b[0m \u001b[0mvalidate_features\u001b[0m\u001b[0;34m:\u001b[0m\u001b[0;34m\u001b[0m\u001b[0;34m\u001b[0m\u001b[0m\n\u001b[0;32m-> 1887\u001b[0;31m             \u001b[0mself\u001b[0m\u001b[0;34m.\u001b[0m\u001b[0m_validate_features\u001b[0m\u001b[0;34m(\u001b[0m\u001b[0mdata\u001b[0m\u001b[0;34m)\u001b[0m\u001b[0;34m\u001b[0m\u001b[0;34m\u001b[0m\u001b[0m\n\u001b[0m\u001b[1;32m   1888\u001b[0m         \u001b[0miteration_range\u001b[0m \u001b[0;34m=\u001b[0m \u001b[0m_convert_ntree_limit\u001b[0m\u001b[0;34m(\u001b[0m\u001b[0mself\u001b[0m\u001b[0;34m,\u001b[0m \u001b[0mntree_limit\u001b[0m\u001b[0;34m,\u001b[0m \u001b[0miteration_range\u001b[0m\u001b[0;34m)\u001b[0m\u001b[0;34m\u001b[0m\u001b[0;34m\u001b[0m\u001b[0m\n\u001b[1;32m   1889\u001b[0m         args = {\n",
      "\u001b[0;32m~/anaconda3/envs/Python3.7/lib/python3.7/site-packages/xgboost/core.py\u001b[0m in \u001b[0;36m_validate_features\u001b[0;34m(self, data)\u001b[0m\n\u001b[1;32m   2466\u001b[0m             raise ValueError(\n\u001b[1;32m   2467\u001b[0m                 \u001b[0;34m\"training data did not have the following fields: \"\u001b[0m \u001b[0;34m+\u001b[0m\u001b[0;34m\u001b[0m\u001b[0;34m\u001b[0m\u001b[0m\n\u001b[0;32m-> 2468\u001b[0;31m                 \u001b[0;34m\", \"\u001b[0m\u001b[0;34m.\u001b[0m\u001b[0mjoin\u001b[0m\u001b[0;34m(\u001b[0m\u001b[0mself\u001b[0m\u001b[0;34m.\u001b[0m\u001b[0mfeature_names\u001b[0m\u001b[0;34m)\u001b[0m\u001b[0;34m\u001b[0m\u001b[0;34m\u001b[0m\u001b[0m\n\u001b[0m\u001b[1;32m   2469\u001b[0m             )\n\u001b[1;32m   2470\u001b[0m         \u001b[0;31m# Booster can't accept data with different feature names\u001b[0m\u001b[0;34m\u001b[0m\u001b[0;34m\u001b[0m\u001b[0;34m\u001b[0m\u001b[0m\n",
      "\u001b[0;31mValueError\u001b[0m: training data did not have the following fields: AGREEMENTID, PRODUCT, NC, DayofWeek, TimeCall"
     ]
    }
   ],
   "source": [
    "import xgboost as xgb\n",
    "from xgboost import XGBClassifier\n",
    "\n",
    "model = xgb.Booster()\n",
    "model.load_model('/home/ai_car/AthenaBow/model/1/model.json')\n",
    "\n",
    "model.predict(xgb.DMatrix())"
   ]
  },
  {
   "cell_type": "code",
   "execution_count": 9,
   "metadata": {},
   "outputs": [
    {
     "name": "stderr",
     "output_type": "stream",
     "text": [
      "/home/ai_car/.local/lib/python3.7/site-packages/IPython/core/interactiveshell.py:3553: DtypeWarning: Columns (8,9,13,14,15,17,18,25,36,37,40,43,48) have mixed types.Specify dtype option on import or set low_memory=False.\n",
      "  exec(code_obj, self.user_global_ns, self.user_ns)\n",
      "100%|██████████| 385/385 [00:00<00:00, 749.92it/s]\n",
      "100%|██████████| 385/385 [00:00<00:00, 741.40it/s]\n",
      "100%|██████████| 385/385 [00:00<00:00, 741.05it/s]\n",
      "100%|██████████| 385/385 [00:00<00:00, 744.91it/s]\n",
      "100%|██████████| 385/385 [00:00<00:00, 743.04it/s]\n",
      "100%|██████████| 385/385 [00:00<00:00, 696.02it/s]\n",
      "100%|██████████| 1/1 [00:03<00:00,  3.17s/it]"
     ]
    },
    {
     "name": "stdout",
     "output_type": "stream",
     "text": [
      "20.278660535812378\n"
     ]
    },
    {
     "name": "stderr",
     "output_type": "stream",
     "text": [
      "\n"
     ]
    },
    {
     "data": {
      "text/html": [
       "<div>\n",
       "<style scoped>\n",
       "    .dataframe tbody tr th:only-of-type {\n",
       "        vertical-align: middle;\n",
       "    }\n",
       "\n",
       "    .dataframe tbody tr th {\n",
       "        vertical-align: top;\n",
       "    }\n",
       "\n",
       "    .dataframe thead th {\n",
       "        text-align: right;\n",
       "    }\n",
       "</style>\n",
       "<table border=\"1\" class=\"dataframe\">\n",
       "  <thead>\n",
       "    <tr style=\"text-align: right;\">\n",
       "      <th></th>\n",
       "      <th>26/12/2022 - Monday</th>\n",
       "      <th>27/12/2022 - Tuesday</th>\n",
       "      <th>28/12/2022 - Wednesday</th>\n",
       "      <th>29/12/2022 - Thursday</th>\n",
       "      <th>30/12/2022 - Friday</th>\n",
       "      <th>31/12/2022 - Saturday</th>\n",
       "    </tr>\n",
       "  </thead>\n",
       "  <tbody>\n",
       "    <tr>\n",
       "      <th>0</th>\n",
       "      <td>[90, 570]</td>\n",
       "      <td>[90, 630]</td>\n",
       "      <td>[89, 630]</td>\n",
       "      <td>[90, 570]</td>\n",
       "      <td>[90, 630]</td>\n",
       "      <td>[90, 630]</td>\n",
       "    </tr>\n",
       "    <tr>\n",
       "      <th>1</th>\n",
       "      <td>[89, 600]</td>\n",
       "      <td>[89, 570]</td>\n",
       "      <td>[89, 570]</td>\n",
       "      <td>[90, 630]</td>\n",
       "      <td>[90, 660]</td>\n",
       "      <td>[90, 570]</td>\n",
       "    </tr>\n",
       "    <tr>\n",
       "      <th>2</th>\n",
       "      <td>[89, 630]</td>\n",
       "      <td>[89, 600]</td>\n",
       "      <td>[89, 540]</td>\n",
       "      <td>[90, 540]</td>\n",
       "      <td>[89, 600]</td>\n",
       "      <td>[89, 540]</td>\n",
       "    </tr>\n",
       "  </tbody>\n",
       "</table>\n",
       "</div>"
      ],
      "text/plain": [
       "  26/12/2022 - Monday 27/12/2022 - Tuesday 28/12/2022 - Wednesday  \\\n",
       "0           [90, 570]            [90, 630]              [89, 630]   \n",
       "1           [89, 600]            [89, 570]              [89, 570]   \n",
       "2           [89, 630]            [89, 600]              [89, 540]   \n",
       "\n",
       "  29/12/2022 - Thursday 30/12/2022 - Friday 31/12/2022 - Saturday  \n",
       "0             [90, 570]           [90, 630]             [90, 630]  \n",
       "1             [90, 630]           [90, 660]             [90, 570]  \n",
       "2             [90, 540]           [89, 600]             [89, 540]  "
      ]
     },
     "execution_count": 9,
     "metadata": {},
     "output_type": "execute_result"
    }
   ],
   "source": [
    "import pandas as pd\n",
    "from tqdm import tqdm\n",
    "from datetime import datetime, date\n",
    "import pickle\n",
    "from time import time\n",
    "from src.utils import libSort\n",
    "import calendar\n",
    "from calendar import monthrange\n",
    "from src.utils.QueryData import GetIndex, checkNumberDayRemaining, SearchInfor\n",
    "from src.utils.mergeToDataFrame import format_time\n",
    "from src.utils.convert_data_type import convertList\n",
    "\n",
    "IDUser = str(input(\"Please type Agreedment ID: \"))\n",
    "dataBase = pd.read_csv('/home/ai_car/AthenaBow/data/TotalData.csv')\n",
    "start = time()\n",
    "listID = GetIndex(data= dataBase, id= IDUser)\n",
    "if len(listID) == 0:\n",
    "    raise Exception(\"DataNotFound: The data which you just fill in not in Database\")\n",
    "elif len(listID) > 1:\n",
    "    Phone, Product, Nc = SearchInfor(data= dataBase, index= listID[0], NCIndex= listID[-1])\n",
    "    NowDay, LimitInMonth, NowMonth = checkNumberDayRemaining()\n",
    "    xgbModel = pickle.load(open('/home/ai_car/AthenaBow/model/24-12/xgb.sav', 'rb'))\n",
    "    whatInsideToModel = [[Phone, Product, Nc]]\n",
    "    listResult = pd.DataFrame()\n",
    "    for i in tqdm(range(len(whatInsideToModel))):\n",
    "        for j in range(NowDay, LimitInMonth + 1):\n",
    "            perCent = []\n",
    "            listTimeAvailabel = []\n",
    "            for k in tqdm(range(480, 12001, 30)):\n",
    "                preds = xgbModel.predict_proba([[whatInsideToModel[i][0],\n",
    "                                                whatInsideToModel[i][1],\n",
    "                                                whatInsideToModel[i][2],\n",
    "                                                k,\n",
    "                                                j,\n",
    "                                                NowMonth]])\n",
    "                preds = preds.tolist()\n",
    "                perCent.append(preds[0][1])\n",
    "                listTimeAvailabel.append(k)\n",
    "            whenIsAGoodTime = libSort.nlargest(3,zip(perCent, listTimeAvailabel))\n",
    "            whenIsAGoodTime = convertList(whenIsAGoodTime)\n",
    "            StandardScaleTime = []\n",
    "            for ff in range(len(whenIsAGoodTime)):\n",
    "                HereWeLive = [int(whenIsAGoodTime[ff][0] * 100), int(whenIsAGoodTime[ff][1])]\n",
    "                StandardScaleTime.append(HereWeLive)\n",
    "            DayinWeeks = date(year=datetime.date(datetime.now()).year,\n",
    "                              month=NowMonth,\n",
    "                              day= int(j))\n",
    "            listResult[f'{j}/{NowMonth}/{datetime.date(datetime.now()).year} - {calendar.day_name[DayinWeeks.weekday()]}'] = StandardScaleTime\n",
    "end = time()\n",
    "print(end - start)\n",
    "listResult\n"
   ]
  },
  {
   "cell_type": "code",
   "execution_count": 14,
   "metadata": {},
   "outputs": [
    {
     "data": {
      "text/plain": [
       "('98', 555)"
      ]
     },
     "execution_count": 14,
     "metadata": {},
     "output_type": "execute_result"
    }
   ],
   "source": [
    "HereWeLive"
   ]
  },
  {
   "cell_type": "code",
   "execution_count": 2,
   "metadata": {},
   "outputs": [
    {
     "name": "stdout",
     "output_type": "stream",
     "text": [
      "26/12/2022 - Monday\n",
      "27/12/2022 - Tuesday\n",
      "28/12/2022 - Wednesday\n",
      "29/12/2022 - Thursday\n",
      "30/12/2022 - Friday\n",
      "31/12/2022 - Saturday\n"
     ]
    }
   ],
   "source": [
    "for m in listResult.columns:\n",
    "    print(m)"
   ]
  },
  {
   "cell_type": "code",
   "execution_count": 3,
   "metadata": {},
   "outputs": [
    {
     "data": {
      "text/plain": [
       "31"
      ]
     },
     "execution_count": 3,
     "metadata": {},
     "output_type": "execute_result"
    }
   ],
   "source": [
    "int(m[:2])"
   ]
  },
  {
   "cell_type": "code",
   "execution_count": 7,
   "metadata": {},
   "outputs": [
    {
     "data": {
      "text/plain": [
       "31"
      ]
     },
     "execution_count": 7,
     "metadata": {},
     "output_type": "execute_result"
    }
   ],
   "source": [
    "extractDay = int(m.split('/')[0])\n",
    "extractDay"
   ]
  },
  {
   "cell_type": "code",
   "execution_count": 17,
   "metadata": {},
   "outputs": [
    {
     "data": {
      "text/plain": [
       "[[92, 555],\n",
       " [96, 555],\n",
       " [98, 555],\n",
       " [98, 555],\n",
       " [98, 555],\n",
       " [98, 555],\n",
       " [98, 615],\n",
       " [98, 555]]"
      ]
     },
     "execution_count": 17,
     "metadata": {},
     "output_type": "execute_result"
    },
    {
     "ename": "",
     "evalue": "",
     "output_type": "error",
     "traceback": [
      "\u001b[1;31mThe Kernel crashed while executing code in the the current cell or a previous cell. Please review the code in the cell(s) to identify a possible cause of the failure. Click <a href='https://aka.ms/vscodeJupyterKernelCrash'>here</a> for more info. View Jupyter <a href='command:jupyter.viewOutput'>log</a> for further details."
     ]
    }
   ],
   "source": [
    "j.tolist()"
   ]
  },
  {
   "cell_type": "code",
   "execution_count": 4,
   "metadata": {},
   "outputs": [],
   "source": [
    "import pandas as pd\n",
    "from tqdm import tqdm\n",
    "from datetime import datetime\n",
    "import pickle\n",
    "from time import time\n",
    "from src.utils import libSort\n",
    "from calendar import monthrange\n",
    "\n",
    "start = time()\n",
    "a = str(input(\"Please paste the path of file: \"))\n",
    "file = pd.read_excel(a)\n",
    "days = datetime.now()\n",
    "days = int(days.weekday()) + 2\n",
    "xgb_reg = pickle.load(open(\"/home/ai_car/AthenaBow/model/xgb_reg2.sav\", \"rb\"))\n",
    "listTimeAvailabel = [6,7,8,9,10,11,12,13,14,15,16,17,18,19,20,21,22,23]\n",
    "listResult = []\n",
    "for i in tqdm(range(len(file.columns[0]))):\n",
    "    for j in range(len(listTimeAvailabel)):\n",
    "        perCent = []\n",
    "        preds = xgb_reg.predict_proba([[file[file.columns[0]][i],\n",
    "                                        file[file.columns[1]][i],\n",
    "                                        file[file.columns[2]][i],\n",
    "                                        listTimeAvailabel[j],\n",
    "                                        days]])\n",
    "        preds = preds.tolist()\n",
    "        perCent.append(preds[0][1])\n",
    "    GoodTime = libSort.nlargest(3,zip(perCent, listTimeAvailabel))\n",
    "    listResult.append(GoodTime)\n",
    "time() - start\n",
    "            "
   ]
  },
  {
   "cell_type": "code",
   "execution_count": 4,
   "metadata": {},
   "outputs": [
    {
     "ename": "ValueError",
     "evalue": "invalid literal for int() with base 10: ''",
     "output_type": "error",
     "traceback": [
      "\u001b[0;31m---------------------------------------------------------------------------\u001b[0m",
      "\u001b[0;31mValueError\u001b[0m                                Traceback (most recent call last)",
      "\u001b[0;32m/tmp/ipykernel_7154/2895510589.py\u001b[0m in \u001b[0;36m<module>\u001b[0;34m\u001b[0m\n\u001b[1;32m      9\u001b[0m \u001b[0mstart\u001b[0m \u001b[0;34m=\u001b[0m \u001b[0mtime\u001b[0m\u001b[0;34m(\u001b[0m\u001b[0;34m)\u001b[0m\u001b[0;34m\u001b[0m\u001b[0;34m\u001b[0m\u001b[0m\n\u001b[1;32m     10\u001b[0m \u001b[0;31m# data_exam = [[3216305, 7, 5985332],[3523308, 9, 5985112],[3216308, 2, 5365334],[3216417, 1, 6315334],[3231208, 9, 5983134]]\u001b[0m\u001b[0;34m\u001b[0m\u001b[0;34m\u001b[0m\u001b[0;34m\u001b[0m\u001b[0m\n\u001b[0;32m---> 11\u001b[0;31m \u001b[0ma\u001b[0m \u001b[0;34m=\u001b[0m \u001b[0mint\u001b[0m\u001b[0;34m(\u001b[0m\u001b[0minput\u001b[0m\u001b[0;34m(\u001b[0m\u001b[0;34m\"Please input your id: \"\u001b[0m\u001b[0;34m)\u001b[0m\u001b[0;34m)\u001b[0m\u001b[0;34m\u001b[0m\u001b[0;34m\u001b[0m\u001b[0m\n\u001b[0m\u001b[1;32m     12\u001b[0m \u001b[0mb\u001b[0m \u001b[0;34m=\u001b[0m \u001b[0mstr\u001b[0m\u001b[0;34m(\u001b[0m\u001b[0minput\u001b[0m\u001b[0;34m(\u001b[0m\u001b[0;34m\"Please input your Product: \"\u001b[0m\u001b[0;34m)\u001b[0m\u001b[0;34m)\u001b[0m\u001b[0;34m\u001b[0m\u001b[0;34m\u001b[0m\u001b[0m\n\u001b[1;32m     13\u001b[0m \u001b[0mb\u001b[0m \u001b[0;34m=\u001b[0m \u001b[0mencodeProductInference\u001b[0m\u001b[0;34m(\u001b[0m\u001b[0mb\u001b[0m\u001b[0;34m)\u001b[0m\u001b[0;34m\u001b[0m\u001b[0;34m\u001b[0m\u001b[0m\n",
      "\u001b[0;31mValueError\u001b[0m: invalid literal for int() with base 10: ''"
     ]
    }
   ],
   "source": [
    "import pandas as pd\n",
    "from tqdm import tqdm\n",
    "from datetime import datetime\n",
    "import pickle\n",
    "from src.utils.encodeData import encodeProductInference\n",
    "from time import time\n",
    "from src.utils import libSort\n",
    "\n",
    "start = time()\n",
    "# data_exam = [[3216305, 7, 5985332],[3523308, 9, 5985112],[3216308, 2, 5365334],[3216417, 1, 6315334],[3231208, 9, 5983134]]\n",
    "a = int(input(\"Please input your id: \"))\n",
    "b = str(input(\"Please input your Product: \"))\n",
    "b = encodeProductInference(b)\n",
    "c = int(input(\"Please input your NC: \"))\n",
    "data_exam = [[a,b,c]]\n",
    "xgb_reg = pickle.load(open(\"/home/ai_car/AthenaBow/model/xgb_NODay.sav\", \"rb\"))\n",
    "listResult = []\n",
    "for i in tqdm(range(len(data_exam))):\n",
    "    perCent = []\n",
    "    listTimeAvailabel = []\n",
    "    for j in range(480, 12001, 15):\n",
    "        preds = xgb_reg.predict_proba([[data_exam[i][0],\n",
    "                                        data_exam[i][1],\n",
    "                                        data_exam[i][2],\n",
    "                                        j]])\n",
    "        preds = preds.tolist()\n",
    "        perCent.append(preds[0][1])\n",
    "        listTimeAvailabel.append(j)\n",
    "    GoodTime = libSort.nlargest(5,zip(perCent, listTimeAvailabel))\n",
    "    listResult.append(GoodTime)\n",
    "time() - start"
   ]
  },
  {
   "cell_type": "code",
   "execution_count": 5,
   "metadata": {},
   "outputs": [
    {
     "data": {
      "text/plain": [
       "(4, 10)"
      ]
     },
     "execution_count": 5,
     "metadata": {},
     "output_type": "execute_result"
    }
   ],
   "source": [
    "a = a + (10,)\n",
    "a"
   ]
  },
  {
   "cell_type": "code",
   "execution_count": 2,
   "metadata": {},
   "outputs": [
    {
     "data": {
      "text/plain": [
       "[(0.8860887885093689, 945),\n",
       " (0.8860887885093689, 930),\n",
       " (0.8860887885093689, 915),\n",
       " (0.8860887885093689, 900),\n",
       " (0.6602908372879028, 885)]"
      ]
     },
     "execution_count": 2,
     "metadata": {},
     "output_type": "execute_result"
    }
   ],
   "source": [
    "GoodTime"
   ]
  },
  {
   "cell_type": "code",
   "execution_count": 3,
   "metadata": {},
   "outputs": [
    {
     "data": {
      "text/plain": [
       "[[(0.8860887885093689, 945),\n",
       "  (0.8860887885093689, 930),\n",
       "  (0.8860887885093689, 915),\n",
       "  (0.8860887885093689, 900),\n",
       "  (0.6602908372879028, 885)]]"
      ]
     },
     "execution_count": 3,
     "metadata": {},
     "output_type": "execute_result"
    }
   ],
   "source": [
    "listResult"
   ]
  },
  {
   "cell_type": "code",
   "execution_count": null,
   "metadata": {},
   "outputs": [],
   "source": [
    "listResult"
   ]
  },
  {
   "cell_type": "code",
   "execution_count": 9,
   "metadata": {},
   "outputs": [
    {
     "name": "stderr",
     "output_type": "stream",
     "text": [
      "100%|██████████| 1/1 [00:00<00:00, 11275.01it/s]\n"
     ]
    }
   ],
   "source": [
    "from src.utils.mergeToDataFrame import format_time\n",
    "newTime = []\n",
    "for i in tqdm(range(len(listResult))):\n",
    "    charac = []\n",
    "    for j in range(len(listResult[i])):\n",
    "        time = format_time(listResult[i][j][1])\n",
    "        charac.append(time)\n",
    "    newTime.append(charac)"
   ]
  },
  {
   "cell_type": "code",
   "execution_count": 8,
   "metadata": {},
   "outputs": [
    {
     "data": {
      "text/plain": [
       "[['15 h 45 ', '15 h 30 ', '15 h 15 ', '15 h 0 ', '14 h 45 ']]"
      ]
     },
     "execution_count": 8,
     "metadata": {},
     "output_type": "execute_result"
    }
   ],
   "source": [
    "newTime"
   ]
  },
  {
   "cell_type": "code",
   "execution_count": null,
   "metadata": {},
   "outputs": [],
   "source": [
    "ngày - thứ - giờ - (15m) accuracy"
   ]
  },
  {
   "cell_type": "code",
   "execution_count": 8,
   "metadata": {},
   "outputs": [
    {
     "data": {
      "text/plain": [
       "7"
      ]
     },
     "execution_count": 8,
     "metadata": {},
     "output_type": "execute_result"
    }
   ],
   "source": [
    "data_exam = [[3216305, 7, 5985332],[3523308, 9, 5985112],[3216308, 2, 5365334],[3216417, 1, 6315334],[3231208, 9, 5983134]]\n",
    "data_exam[0][1]"
   ]
  },
  {
   "cell_type": "code",
   "execution_count": 8,
   "metadata": {},
   "outputs": [
    {
     "data": {
      "text/plain": [
       "([1, 3], 0)"
      ]
     },
     "execution_count": 8,
     "metadata": {},
     "output_type": "execute_result"
    }
   ],
   "source": [
    "import numpy as np\n",
    "\n",
    "\n",
    "listTimeAvailabel = [6,7,8,9,10,11,12,13,14,15,16,17,18,19,20,21,22,23]\n",
    "lamda = sorted((e,i) for i,e in enumerate(preds))\n",
    "# for index, item in enumerate(listTimeAvailabel):\n",
    "#     print(index)\n",
    "lamda[0]"
   ]
  },
  {
   "cell_type": "code",
   "execution_count": 9,
   "metadata": {},
   "outputs": [
    {
     "data": {
      "text/plain": [
       "3"
      ]
     },
     "execution_count": 9,
     "metadata": {},
     "output_type": "execute_result"
    }
   ],
   "source": [
    "lamda[0][0][1]"
   ]
  },
  {
   "cell_type": "code",
   "execution_count": 41,
   "metadata": {},
   "outputs": [
    {
     "data": {
      "text/plain": [
       "array([ 123., 3123.])"
      ]
     },
     "execution_count": 41,
     "metadata": {},
     "output_type": "execute_result"
    }
   ],
   "source": [
    "import numpy as np\n",
    "kapa = [123,3123]\n",
    "lata = np.array(kapa, dtype=float)\n",
    "# list(lata)"
   ]
  },
  {
   "cell_type": "code",
   "execution_count": 22,
   "metadata": {},
   "outputs": [
    {
     "ename": "AttributeError",
     "evalue": "'XGBClassifier' object has no attribute 'set_param'",
     "output_type": "error",
     "traceback": [
      "\u001b[0;31m---------------------------------------------------------------------------\u001b[0m",
      "\u001b[0;31mAttributeError\u001b[0m                            Traceback (most recent call last)",
      "\u001b[0;32m/tmp/ipykernel_24807/3195352471.py\u001b[0m in \u001b[0;36m<module>\u001b[0;34m\u001b[0m\n\u001b[1;32m      2\u001b[0m \u001b[0mxgb_reg\u001b[0m \u001b[0;34m=\u001b[0m \u001b[0mpickle\u001b[0m\u001b[0;34m.\u001b[0m\u001b[0mload\u001b[0m\u001b[0;34m(\u001b[0m\u001b[0mopen\u001b[0m\u001b[0;34m(\u001b[0m\u001b[0;34m\"/home/ai_car/AthenaBow/model/xgb_reg2.sav\"\u001b[0m\u001b[0;34m,\u001b[0m \u001b[0;34m\"rb\"\u001b[0m\u001b[0;34m)\u001b[0m\u001b[0;34m)\u001b[0m\u001b[0;34m\u001b[0m\u001b[0;34m\u001b[0m\u001b[0m\n\u001b[1;32m      3\u001b[0m \u001b[0mpreds\u001b[0m \u001b[0;34m=\u001b[0m \u001b[0mxgb_reg\u001b[0m\u001b[0;34m.\u001b[0m\u001b[0mpredict_proba\u001b[0m\u001b[0;34m(\u001b[0m\u001b[0;34m[\u001b[0m\u001b[0;34m[\u001b[0m\u001b[0;36m901327305\u001b[0m\u001b[0;34m,\u001b[0m \u001b[0;36m0\u001b[0m\u001b[0;34m,\u001b[0m \u001b[0;36m5985334\u001b[0m\u001b[0;34m,\u001b[0m \u001b[0;36m7\u001b[0m\u001b[0;34m,\u001b[0m \u001b[0;36m16\u001b[0m\u001b[0;34m]\u001b[0m\u001b[0;34m]\u001b[0m\u001b[0;34m)\u001b[0m\u001b[0;34m\u001b[0m\u001b[0;34m\u001b[0m\u001b[0m\n\u001b[0;32m----> 4\u001b[0;31m \u001b[0mxgb_reg\u001b[0m\u001b[0;34m.\u001b[0m\u001b[0mset_param\u001b[0m\u001b[0;34m(\u001b[0m\u001b[0;34m{\u001b[0m\u001b[0;34m\"predictor\"\u001b[0m\u001b[0;34m:\u001b[0m \u001b[0;34m\"gpu_predictor\"\u001b[0m\u001b[0;34m}\u001b[0m\u001b[0;34m)\u001b[0m\u001b[0;34m\u001b[0m\u001b[0;34m\u001b[0m\u001b[0m\n\u001b[0m",
      "\u001b[0;31mAttributeError\u001b[0m: 'XGBClassifier' object has no attribute 'set_param'"
     ]
    }
   ],
   "source": [
    "import pickle\n",
    "xgb_reg = pickle.load(open(\"/home/ai_car/AthenaBow/model/xgb_reg2.sav\", \"rb\"))\n",
    "preds = xgb_reg.predict_proba([[901327305, 0, 5985334, 7, 16]])\n",
    "xgb_reg.set_params()"
   ]
  },
  {
   "cell_type": "code",
   "execution_count": 21,
   "metadata": {},
   "outputs": [
    {
     "data": {
      "text/plain": [
       "[[0.6256044507026672, 0.37439554929733276]]"
      ]
     },
     "execution_count": 21,
     "metadata": {},
     "output_type": "execute_result"
    }
   ],
   "source": [
    "preds.tolist()"
   ]
  },
  {
   "cell_type": "code",
   "execution_count": 28,
   "metadata": {},
   "outputs": [],
   "source": [
    "file = pd.read_excel('/home/ai_car/AthenaBow/data/import mafc xlsx/debt_reminder_202200707.xlsx')"
   ]
  },
  {
   "cell_type": "code",
   "execution_count": 29,
   "metadata": {},
   "outputs": [
    {
     "data": {
      "text/plain": [
       "'CUSTOMER'"
      ]
     },
     "execution_count": 29,
     "metadata": {},
     "output_type": "execute_result"
    }
   ],
   "source": [
    "file.columns[0]"
   ]
  },
  {
   "cell_type": "code",
   "execution_count": 33,
   "metadata": {},
   "outputs": [
    {
     "data": {
      "text/plain": [
       "0           NGUYỄN THẾ NGHI\n",
       "1               LƯƠNG  TIẾT\n",
       "2       BẠCH VŨ KIỀU PHƯƠNG\n",
       "3        BÙI THỊ ĐOAN TRINH\n",
       "4           NGUYỄN ĐỨC NGỌC\n",
       "               ...         \n",
       "9177        DANH THỊ THƯƠNG\n",
       "9178         NGUYỄN VĂN MÃO\n",
       "9179            MAI VĂN SƠN\n",
       "9180        NGÔ THỊ LIỄU CA\n",
       "9181         PHẠM MINH ĐƯỢC\n",
       "Name: CUSTOMER, Length: 9182, dtype: object"
      ]
     },
     "execution_count": 33,
     "metadata": {},
     "output_type": "execute_result"
    }
   ],
   "source": [
    "a = file[file.columns[0]]\n",
    "a"
   ]
  }
 ],
 "metadata": {
  "interpreter": {
   "hash": "e502d9d223253ef44fbaadbedf830e9884f96922c6e3ed182190d5999b213ab9"
  },
  "kernelspec": {
   "display_name": "Python 3.7.13 ('Python3.7')",
   "language": "python",
   "name": "python3"
  },
  "language_info": {
   "codemirror_mode": {
    "name": "ipython",
    "version": 3
   },
   "file_extension": ".py",
   "mimetype": "text/x-python",
   "name": "python",
   "nbconvert_exporter": "python",
   "pygments_lexer": "ipython3",
   "version": "3.7.13 (default, Oct 18 2022, 18:57:03) \n[GCC 11.2.0]"
  },
  "orig_nbformat": 4,
  "vscode": {
   "interpreter": {
    "hash": "e502d9d223253ef44fbaadbedf830e9884f96922c6e3ed182190d5999b213ab9"
   }
  }
 },
 "nbformat": 4,
 "nbformat_minor": 2
}
